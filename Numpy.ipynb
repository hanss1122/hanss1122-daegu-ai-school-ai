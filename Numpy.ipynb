{
 "cells": [
  {
   "cell_type": "markdown",
   "id": "0868d99c",
   "metadata": {},
   "source": [
    "# Numpy의 소개\n",
    "\n",
    "NumPy(Numerical Python)는 파이썬에서 과학적 계산을 위한 핵심 라이브러리이다. NumPy는 다차원 배열 객체와 배열과 함께 작동하는 도구들을 제공한다. 하지만 NumPy 자체로는 고수준의 데이터 분석 기능을 제공하지 않기 때문에 NumPy 배열과 배열 기반 컴퓨팅의 이해를 통해 pandas와 같은 도구를 좀 더 효율적으로 사용하는 것이 필요하다."
   ]
  },
  {
   "cell_type": "markdown",
   "id": "df452230",
   "metadata": {},
   "source": [
    "## ndarray 생성\n",
    "array 함수를 사용하여 배열 생성하기"
   ]
  },
  {
   "cell_type": "code",
   "execution_count": 1,
   "id": "0947d2d2",
   "metadata": {},
   "outputs": [],
   "source": [
    "import numpy as np"
   ]
  },
  {
   "cell_type": "code",
   "execution_count": 2,
   "id": "27873c8e",
   "metadata": {},
   "outputs": [],
   "source": [
    "# ndarray를 생성\n",
    "arr = np.array([1,2,3,4])"
   ]
  },
  {
   "cell_type": "code",
   "execution_count": 3,
   "id": "16173c40",
   "metadata": {},
   "outputs": [
    {
     "name": "stdout",
     "output_type": "stream",
     "text": [
      "[1 2 3 4]\n"
     ]
    }
   ],
   "source": [
    "print(arr)"
   ]
  },
  {
   "cell_type": "code",
   "execution_count": 4,
   "id": "79010020",
   "metadata": {},
   "outputs": [
    {
     "data": {
      "text/plain": [
       "numpy.ndarray"
      ]
     },
     "execution_count": 4,
     "metadata": {},
     "output_type": "execute_result"
    }
   ],
   "source": [
    "type(arr)"
   ]
  },
  {
   "cell_type": "code",
   "execution_count": 5,
   "id": "c06d6b75",
   "metadata": {
    "scrolled": true
   },
   "outputs": [
    {
     "data": {
      "text/plain": [
       "array([[0., 0., 0.],\n",
       "       [0., 0., 0.],\n",
       "       [0., 0., 0.]])"
      ]
     },
     "execution_count": 5,
     "metadata": {},
     "output_type": "execute_result"
    }
   ],
   "source": [
    "np.zeros((3,3))"
   ]
  },
  {
   "cell_type": "code",
   "execution_count": 6,
   "id": "e4bbb053",
   "metadata": {},
   "outputs": [
    {
     "data": {
      "text/plain": [
       "array([[1., 1., 1.],\n",
       "       [1., 1., 1.],\n",
       "       [1., 1., 1.]])"
      ]
     },
     "execution_count": 6,
     "metadata": {},
     "output_type": "execute_result"
    }
   ],
   "source": [
    "np.ones((3,3))"
   ]
  },
  {
   "cell_type": "code",
   "execution_count": 7,
   "id": "6fd82258",
   "metadata": {},
   "outputs": [
    {
     "data": {
      "text/plain": [
       "array([[6.23042070e-307, 4.67296746e-307, 1.69121096e-306,\n",
       "        1.33511018e-306],\n",
       "       [8.34441742e-308, 1.78022342e-306, 6.23058028e-307,\n",
       "        9.79107872e-307],\n",
       "       [6.89807188e-307, 7.56594375e-307, 6.23060065e-307,\n",
       "        1.78021527e-306],\n",
       "       [8.34454050e-308, 1.11261027e-306, 1.15706896e-306,\n",
       "        1.33512173e-306]])"
      ]
     },
     "execution_count": 7,
     "metadata": {},
     "output_type": "execute_result"
    }
   ],
   "source": [
    "np.empty((4,4))"
   ]
  },
  {
   "cell_type": "code",
   "execution_count": 8,
   "id": "4941b46d",
   "metadata": {},
   "outputs": [
    {
     "data": {
      "text/plain": [
       "array([0, 1, 2, 3, 4, 5, 6, 7, 8, 9])"
      ]
     },
     "execution_count": 8,
     "metadata": {},
     "output_type": "execute_result"
    }
   ],
   "source": [
    "np.arange(10)   # [0,1,2,3,4,5,6,7,8,9]"
   ]
  },
  {
   "cell_type": "markdown",
   "id": "120d78d4",
   "metadata": {},
   "source": [
    "### ndarray 배열의 모양, 차수, 데이터 타입 확인하기"
   ]
  },
  {
   "cell_type": "code",
   "execution_count": 9,
   "id": "c8d4ebc3",
   "metadata": {},
   "outputs": [],
   "source": [
    "arr = np.array([[1,2,3],[4,5,6]])"
   ]
  },
  {
   "cell_type": "code",
   "execution_count": 10,
   "id": "5f594c85",
   "metadata": {},
   "outputs": [
    {
     "name": "stdout",
     "output_type": "stream",
     "text": [
      "[[1 2 3]\n",
      " [4 5 6]]\n"
     ]
    }
   ],
   "source": [
    "print(arr)"
   ]
  },
  {
   "cell_type": "code",
   "execution_count": 11,
   "id": "49f1e215",
   "metadata": {},
   "outputs": [
    {
     "data": {
      "text/plain": [
       "(2, 3)"
      ]
     },
     "execution_count": 11,
     "metadata": {},
     "output_type": "execute_result"
    }
   ],
   "source": [
    "arr.shape"
   ]
  },
  {
   "cell_type": "code",
   "execution_count": 12,
   "id": "a19025f0",
   "metadata": {},
   "outputs": [
    {
     "data": {
      "text/plain": [
       "2"
      ]
     },
     "execution_count": 12,
     "metadata": {},
     "output_type": "execute_result"
    }
   ],
   "source": [
    "arr.ndim"
   ]
  },
  {
   "cell_type": "code",
   "execution_count": 13,
   "id": "99db233e",
   "metadata": {},
   "outputs": [
    {
     "data": {
      "text/plain": [
       "dtype('int32')"
      ]
     },
     "execution_count": 13,
     "metadata": {},
     "output_type": "execute_result"
    }
   ],
   "source": [
    "arr.dtype"
   ]
  },
  {
   "cell_type": "code",
   "execution_count": 14,
   "id": "eda88d21",
   "metadata": {},
   "outputs": [],
   "source": [
    "arr_float = arr.astype(np.float64)"
   ]
  },
  {
   "cell_type": "code",
   "execution_count": 15,
   "id": "a742b594",
   "metadata": {},
   "outputs": [
    {
     "name": "stdout",
     "output_type": "stream",
     "text": [
      "[[1. 2. 3.]\n",
      " [4. 5. 6.]]\n"
     ]
    }
   ],
   "source": [
    "print(arr_float)"
   ]
  },
  {
   "cell_type": "code",
   "execution_count": 16,
   "id": "000df341",
   "metadata": {},
   "outputs": [
    {
     "data": {
      "text/plain": [
       "dtype('float64')"
      ]
     },
     "execution_count": 16,
     "metadata": {},
     "output_type": "execute_result"
    }
   ],
   "source": [
    "arr_float.dtype"
   ]
  },
  {
   "cell_type": "code",
   "execution_count": 17,
   "id": "e1f9cbfb",
   "metadata": {},
   "outputs": [
    {
     "name": "stdout",
     "output_type": "stream",
     "text": [
      "[[ 6  8]\n",
      " [10 12]]\n",
      "[[ 6  8]\n",
      " [10 12]]\n",
      "[[ 5 12]\n",
      " [21 32]]\n",
      "[[ 5 12]\n",
      " [21 32]]\n"
     ]
    }
   ],
   "source": [
    "arr1 = np.array([[1,2],[3,4]])\n",
    "arr2 = np.array([[5,6],[7,8]])\n",
    "\n",
    "arr3 = arr1 + arr2\n",
    "print(arr3)\n",
    "arr3 = np.add(arr1, arr2)\n",
    "print(arr3)\n",
    "arr3 = arr1 * arr2\n",
    "print(arr3)\n",
    "arr3 = np.multiply(arr1, arr2)\n",
    "print(arr3)"
   ]
  },
  {
   "cell_type": "markdown",
   "id": "ce27a893",
   "metadata": {},
   "source": [
    "Numpy 배열의 연산은 연산자 (+,-,*,/)나 함수(add, subtract, multiply, divide)로 가능하다."
   ]
  },
  {
   "cell_type": "markdown",
   "id": "9ffad810",
   "metadata": {},
   "source": [
    "### ndarray 배열 슬라이싱 하기\n",
    "ndarray 배열 슬라이싱 하기"
   ]
  },
  {
   "cell_type": "code",
   "execution_count": 18,
   "id": "11728165",
   "metadata": {},
   "outputs": [],
   "source": [
    "arr = np.array([[1,2,3],[4,5,6],[7,8,9]])"
   ]
  },
  {
   "cell_type": "code",
   "execution_count": 19,
   "id": "01c59891",
   "metadata": {},
   "outputs": [
    {
     "name": "stdout",
     "output_type": "stream",
     "text": [
      "[[2 3]\n",
      " [5 6]]\n"
     ]
    }
   ],
   "source": [
    "arr_1 = arr[:2,1:3]\n",
    "print(arr_1)"
   ]
  },
  {
   "cell_type": "code",
   "execution_count": 20,
   "id": "5bab6475",
   "metadata": {},
   "outputs": [
    {
     "data": {
      "text/plain": [
       "(3, 3)"
      ]
     },
     "execution_count": 20,
     "metadata": {},
     "output_type": "execute_result"
    }
   ],
   "source": [
    "arr.shape"
   ]
  },
  {
   "cell_type": "code",
   "execution_count": 21,
   "id": "ad80fe70",
   "metadata": {
    "scrolled": true
   },
   "outputs": [
    {
     "name": "stdout",
     "output_type": "stream",
     "text": [
      "[0 1 2 3 4 5 6 7 8 9]\n",
      "[0 1 2 3 4]\n",
      "[5 6 7 8 9]\n",
      "[0 1 2 3 4 5 6 7]\n",
      "[0 2 4 6]\n"
     ]
    }
   ],
   "source": [
    "arr_int = np.arange(10)\n",
    "print(arr_int)\n",
    "print(arr_int[:5])\n",
    "print(arr_int[5:])\n",
    "print(arr_int[:8])\n",
    "print(arr_int[0:8:2])"
   ]
  },
  {
   "cell_type": "code",
   "execution_count": 22,
   "id": "56a583dc",
   "metadata": {},
   "outputs": [
    {
     "name": "stdout",
     "output_type": "stream",
     "text": [
      "3\n"
     ]
    }
   ],
   "source": [
    "print(arr[0,2])"
   ]
  },
  {
   "cell_type": "code",
   "execution_count": 23,
   "id": "1441265c",
   "metadata": {},
   "outputs": [],
   "source": [
    "arr = np.array([[1,2,3],[4,5,6]])"
   ]
  },
  {
   "cell_type": "code",
   "execution_count": 24,
   "id": "a5452b8c",
   "metadata": {},
   "outputs": [],
   "source": [
    "idx = arr > 3"
   ]
  },
  {
   "cell_type": "code",
   "execution_count": 25,
   "id": "c9b50ed2",
   "metadata": {},
   "outputs": [
    {
     "name": "stdout",
     "output_type": "stream",
     "text": [
      "[[False False False]\n",
      " [ True  True  True]]\n"
     ]
    }
   ],
   "source": [
    "print(idx)"
   ]
  },
  {
   "cell_type": "code",
   "execution_count": 26,
   "id": "80ddecbb",
   "metadata": {},
   "outputs": [
    {
     "name": "stdout",
     "output_type": "stream",
     "text": [
      "[4 5 6]\n"
     ]
    }
   ],
   "source": [
    "print(arr[idx])"
   ]
  },
  {
   "cell_type": "markdown",
   "id": "8370957a",
   "metadata": {},
   "source": [
    "### wine 데이터 불러오기"
   ]
  },
  {
   "cell_type": "code",
   "execution_count": 27,
   "id": "97ee0aed",
   "metadata": {},
   "outputs": [],
   "source": [
    "redwine = np.loadtxt(fname='samples/winequality-red.csv',\n",
    "                      delimiter=';',\n",
    "                      skiprows=1)"
   ]
  },
  {
   "cell_type": "code",
   "execution_count": 28,
   "id": "ccfd1d4b",
   "metadata": {},
   "outputs": [
    {
     "data": {
      "text/plain": [
       "(1599, 12)"
      ]
     },
     "execution_count": 28,
     "metadata": {},
     "output_type": "execute_result"
    }
   ],
   "source": [
    "redwine.shape"
   ]
  },
  {
   "cell_type": "code",
   "execution_count": 29,
   "id": "21839582",
   "metadata": {},
   "outputs": [
    {
     "data": {
      "text/plain": [
       "numpy.ndarray"
      ]
     },
     "execution_count": 29,
     "metadata": {},
     "output_type": "execute_result"
    }
   ],
   "source": [
    "type(redwine)"
   ]
  },
  {
   "cell_type": "code",
   "execution_count": 30,
   "id": "8e2de95a",
   "metadata": {},
   "outputs": [
    {
     "name": "stdout",
     "output_type": "stream",
     "text": [
      "152084.78194\n"
     ]
    }
   ],
   "source": [
    "print(redwine.sum())"
   ]
  },
  {
   "cell_type": "code",
   "execution_count": 31,
   "id": "e597bebb",
   "metadata": {},
   "outputs": [
    {
     "name": "stdout",
     "output_type": "stream",
     "text": [
      "7.926036165311652\n"
     ]
    }
   ],
   "source": [
    "print(redwine.mean())"
   ]
  },
  {
   "cell_type": "markdown",
   "id": "166404d7",
   "metadata": {},
   "source": [
    "### 원하는 항목의 평균, 합계 구하기"
   ]
  },
  {
   "cell_type": "code",
   "execution_count": 32,
   "id": "bc0f87b2",
   "metadata": {},
   "outputs": [
    {
     "name": "stdout",
     "output_type": "stream",
     "text": [
      "[ 8.31963727  0.52782051  0.27097561  2.5388055   0.08746654 15.87492183\n",
      " 46.46779237  0.99674668  3.3111132   0.65814884 10.42298311  5.63602251]\n"
     ]
    }
   ],
   "source": [
    "print(redwine.mean(axis=0))"
   ]
  },
  {
   "cell_type": "code",
   "execution_count": 33,
   "id": "de3a2e8c",
   "metadata": {},
   "outputs": [
    {
     "name": "stdout",
     "output_type": "stream",
     "text": [
      "8.31963727329581\n"
     ]
    }
   ],
   "source": [
    "print(redwine[:,0].mean())"
   ]
  },
  {
   "cell_type": "code",
   "execution_count": 34,
   "id": "abd71601",
   "metadata": {},
   "outputs": [
    {
     "name": "stdout",
     "output_type": "stream",
     "text": [
      "[7.4 7.8 7.8 ... 6.3 5.9 6. ]\n"
     ]
    }
   ],
   "source": [
    "print(redwine[:,0])"
   ]
  },
  {
   "cell_type": "code",
   "execution_count": null,
   "id": "aba4b998",
   "metadata": {},
   "outputs": [],
   "source": []
  }
 ],
 "metadata": {
  "kernelspec": {
   "display_name": "Python 3 (ipykernel)",
   "language": "python",
   "name": "python3"
  },
  "language_info": {
   "codemirror_mode": {
    "name": "ipython",
    "version": 3
   },
   "file_extension": ".py",
   "mimetype": "text/x-python",
   "name": "python",
   "nbconvert_exporter": "python",
   "pygments_lexer": "ipython3",
   "version": "3.9.7"
  }
 },
 "nbformat": 4,
 "nbformat_minor": 5
}
