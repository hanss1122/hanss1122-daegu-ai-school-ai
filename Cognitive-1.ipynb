{
 "cells": [
  {
   "cell_type": "code",
   "execution_count": 1,
   "id": "bafa9b13",
   "metadata": {},
   "outputs": [
    {
     "name": "stdout",
     "output_type": "stream",
     "text": [
      "Hello world\n"
     ]
    }
   ],
   "source": [
    "print('Hello world')"
   ]
  },
  {
   "cell_type": "code",
   "execution_count": 2,
   "id": "3c9ef7d2",
   "metadata": {},
   "outputs": [],
   "source": [
    "import requests"
   ]
  },
  {
   "cell_type": "code",
   "execution_count": 3,
   "id": "ce06d608",
   "metadata": {},
   "outputs": [],
   "source": [
    "response = requests.get('http://www.naver.com')"
   ]
  },
  {
   "cell_type": "code",
   "execution_count": 4,
   "id": "5e2fffa2",
   "metadata": {},
   "outputs": [],
   "source": [
    "result = response.text"
   ]
  },
  {
   "cell_type": "code",
   "execution_count": 5,
   "id": "263de9ef",
   "metadata": {},
   "outputs": [
    {
     "name": "stdout",
     "output_type": "stream",
     "text": [
      "\n",
      "<!doctype html>                          <html lang=\"ko\" data-dark=\"false\"> <head> <meta charset=\"utf-8\"> <title>NAVER</title> </head> <body> ... 중략 ... </body> </html>\n",
      "\n"
     ]
    }
   ],
   "source": [
    "print(result)"
   ]
  },
  {
   "cell_type": "code",
   "execution_count": 6,
   "id": "7f04f627",
   "metadata": {},
   "outputs": [
    {
     "name": "stdout",
     "output_type": "stream",
     "text": [
      "\n",
      "<!doctype html>                          <html lang=\"ko\" data-dark=\"false\"> <head> <meta charset=\"utf-8\"> <title>NAVER</title> </head> <body>",
      "... 중략 ...",
      "</body> </html>\n",
      "\n"
     ]
    }
   ],
   "source": [
    "print(requests.get('http://www.naver.com').text)"
   ]
  },
  {
   "cell_type": "code",
   "execution_count": null,
   "id": "5b8c93c7",
   "metadata": {},
   "outputs": [],
   "source": []
  }
 ],
 "metadata": {
  "kernelspec": {
   "display_name": "Python 3 (ipykernel)",
   "language": "python",
   "name": "python3"
  },
  "language_info": {
   "codemirror_mode": {
    "name": "ipython",
    "version": 3
   },
   "file_extension": ".py",
   "mimetype": "text/x-python",
   "name": "python",
   "nbconvert_exporter": "python",
   "pygments_lexer": "ipython3",
   "version": "3.9.7"
  }
 },
 "nbformat": 4,
 "nbformat_minor": 5
}
